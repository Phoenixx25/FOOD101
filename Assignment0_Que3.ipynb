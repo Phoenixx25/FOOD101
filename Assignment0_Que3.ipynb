{
 "cells": [
  {
   "cell_type": "code",
   "execution_count": 1,
   "id": "2ef1e9e6-f1fd-4697-ae38-1d575136cc9b",
   "metadata": {},
   "outputs": [],
   "source": [
    "import pandas as pd\n",
    "import numpy as np"
   ]
  },
  {
   "cell_type": "code",
   "execution_count": 2,
   "id": "e5544859-538c-4d3a-88af-5d3b41c52acc",
   "metadata": {},
   "outputs": [],
   "source": [
    "df=pd.read_csv('IITK_Courses_Report.csv')"
   ]
  },
  {
   "cell_type": "code",
   "execution_count": 3,
   "id": "2d1dd5a5-b192-4653-a51f-29610b781593",
   "metadata": {},
   "outputs": [
    {
     "name": "stdout",
     "output_type": "stream",
     "text": [
      "         Student Name  Course  Marks (%)  Attendance (%)\n",
      "0         Dipon Konar  ELC111      56.72           63.08\n",
      "1      Parth Parashar  PHY113      84.59           20.96\n",
      "2         Anurag Sahu  MTH113      41.13           59.86\n",
      "3    Hemakshi Kumawat  CHM112      59.43           57.34\n",
      "4      Parth Parashar  ELC111      62.88           30.82\n",
      "..                ...     ...        ...             ...\n",
      "195     Kritika Singh  ELC112      68.57           77.98\n",
      "196   Harshit Karnani  PHY112      52.31           35.75\n",
      "197       Sneha Patra  PHY113      58.98           21.98\n",
      "198       Ashma Singh  PHY111      88.56           82.63\n",
      "199    Parth Parashar  PHY115      80.52           42.89\n",
      "\n",
      "[200 rows x 4 columns]\n"
     ]
    }
   ],
   "source": [
    "print(df)"
   ]
  },
  {
   "cell_type": "code",
   "execution_count": 4,
   "id": "2f38437c-f61d-4222-875b-37fe0994765e",
   "metadata": {},
   "outputs": [
    {
     "data": {
      "text/html": [
       "<div>\n",
       "<style scoped>\n",
       "    .dataframe tbody tr th:only-of-type {\n",
       "        vertical-align: middle;\n",
       "    }\n",
       "\n",
       "    .dataframe tbody tr th {\n",
       "        vertical-align: top;\n",
       "    }\n",
       "\n",
       "    .dataframe thead th {\n",
       "        text-align: right;\n",
       "    }\n",
       "</style>\n",
       "<table border=\"1\" class=\"dataframe\">\n",
       "  <thead>\n",
       "    <tr style=\"text-align: right;\">\n",
       "      <th></th>\n",
       "      <th>Student Name</th>\n",
       "      <th>Course</th>\n",
       "      <th>Marks (%)</th>\n",
       "      <th>Attendance (%)</th>\n",
       "    </tr>\n",
       "  </thead>\n",
       "  <tbody>\n",
       "    <tr>\n",
       "      <th>0</th>\n",
       "      <td>Dipon Konar</td>\n",
       "      <td>ELC111</td>\n",
       "      <td>56.72</td>\n",
       "      <td>63.08</td>\n",
       "    </tr>\n",
       "    <tr>\n",
       "      <th>1</th>\n",
       "      <td>Parth Parashar</td>\n",
       "      <td>PHY113</td>\n",
       "      <td>84.59</td>\n",
       "      <td>20.96</td>\n",
       "    </tr>\n",
       "    <tr>\n",
       "      <th>2</th>\n",
       "      <td>Anurag Sahu</td>\n",
       "      <td>MTH113</td>\n",
       "      <td>41.13</td>\n",
       "      <td>59.86</td>\n",
       "    </tr>\n",
       "    <tr>\n",
       "      <th>3</th>\n",
       "      <td>Hemakshi Kumawat</td>\n",
       "      <td>CHM112</td>\n",
       "      <td>59.43</td>\n",
       "      <td>57.34</td>\n",
       "    </tr>\n",
       "    <tr>\n",
       "      <th>4</th>\n",
       "      <td>Parth Parashar</td>\n",
       "      <td>ELC111</td>\n",
       "      <td>62.88</td>\n",
       "      <td>30.82</td>\n",
       "    </tr>\n",
       "    <tr>\n",
       "      <th>...</th>\n",
       "      <td>...</td>\n",
       "      <td>...</td>\n",
       "      <td>...</td>\n",
       "      <td>...</td>\n",
       "    </tr>\n",
       "    <tr>\n",
       "      <th>195</th>\n",
       "      <td>Kritika Singh</td>\n",
       "      <td>ELC112</td>\n",
       "      <td>68.57</td>\n",
       "      <td>77.98</td>\n",
       "    </tr>\n",
       "    <tr>\n",
       "      <th>196</th>\n",
       "      <td>Harshit Karnani</td>\n",
       "      <td>PHY112</td>\n",
       "      <td>52.31</td>\n",
       "      <td>35.75</td>\n",
       "    </tr>\n",
       "    <tr>\n",
       "      <th>197</th>\n",
       "      <td>Sneha Patra</td>\n",
       "      <td>PHY113</td>\n",
       "      <td>58.98</td>\n",
       "      <td>21.98</td>\n",
       "    </tr>\n",
       "    <tr>\n",
       "      <th>198</th>\n",
       "      <td>Ashma Singh</td>\n",
       "      <td>PHY111</td>\n",
       "      <td>88.56</td>\n",
       "      <td>82.63</td>\n",
       "    </tr>\n",
       "    <tr>\n",
       "      <th>199</th>\n",
       "      <td>Parth Parashar</td>\n",
       "      <td>PHY115</td>\n",
       "      <td>80.52</td>\n",
       "      <td>42.89</td>\n",
       "    </tr>\n",
       "  </tbody>\n",
       "</table>\n",
       "<p>197 rows × 4 columns</p>\n",
       "</div>"
      ],
      "text/plain": [
       "         Student Name  Course  Marks (%)  Attendance (%)\n",
       "0         Dipon Konar  ELC111      56.72           63.08\n",
       "1      Parth Parashar  PHY113      84.59           20.96\n",
       "2         Anurag Sahu  MTH113      41.13           59.86\n",
       "3    Hemakshi Kumawat  CHM112      59.43           57.34\n",
       "4      Parth Parashar  ELC111      62.88           30.82\n",
       "..                ...     ...        ...             ...\n",
       "195     Kritika Singh  ELC112      68.57           77.98\n",
       "196   Harshit Karnani  PHY112      52.31           35.75\n",
       "197       Sneha Patra  PHY113      58.98           21.98\n",
       "198       Ashma Singh  PHY111      88.56           82.63\n",
       "199    Parth Parashar  PHY115      80.52           42.89\n",
       "\n",
       "[197 rows x 4 columns]"
      ]
     },
     "execution_count": 4,
     "metadata": {},
     "output_type": "execute_result"
    }
   ],
   "source": [
    "df.dropna(subset=['Student Name'])\n",
    "df.dropna(subset=['Course'])"
   ]
  },
  {
   "cell_type": "code",
   "execution_count": 5,
   "id": "933875e9-109e-4470-9aeb-5d05fd3f2e17",
   "metadata": {},
   "outputs": [],
   "source": [
    "def geometric_mean(x, y):\n",
    "    return np.sqrt(x * y)\n",
    "for column in df.select_dtypes(include=[np.number]).columns:\n",
    "    for i in range(1, len(df) - 1):\n",
    "        if pd.isnull(df.loc[i, column]):\n",
    "            above = df.loc[i - 1, column]\n",
    "            below = df.loc[i + 1, column]\n",
    "            if not pd.isnull(above) and not pd.isnull(below):\n",
    "                df.loc[i, column] = geometric_mean(above, below)\n",
    "\n",
    "df.to_csv('cleaned_IITK_Courses_Report.csv.')\n"
   ]
  },
  {
   "cell_type": "code",
   "execution_count": null,
   "id": "eb16cf01-3e7b-4ade-b1b0-b3b9a6e836c6",
   "metadata": {},
   "outputs": [],
   "source": []
  }
 ],
 "metadata": {
  "kernelspec": {
   "display_name": "Python (food101)",
   "language": "python",
   "name": "food101"
  },
  "language_info": {
   "codemirror_mode": {
    "name": "ipython",
    "version": 3
   },
   "file_extension": ".py",
   "mimetype": "text/x-python",
   "name": "python",
   "nbconvert_exporter": "python",
   "pygments_lexer": "ipython3",
   "version": "3.13.0"
  }
 },
 "nbformat": 4,
 "nbformat_minor": 5
}
